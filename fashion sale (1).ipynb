{
 "cells": [
  {
   "cell_type": "code",
   "execution_count": 1,
   "id": "9bee43f1-248a-45a7-9972-428068d93314",
   "metadata": {},
   "outputs": [],
   "source": [
    "import numpy as np\n",
    "import pandas as pd\n",
    "import matplotlib.pyplot as plt\n",
    "import seaborn as sns\n",
    "from scipy import stats\n",
    "from scipy.stats import ttest_ind\n",
    "from sklearn.model_selection import train_test_split#for training and spliting the model and also testing\n",
    "from sklearn.ensemble import RandomForestRegressor#for the model \n",
    "from sklearn.metrics import mean_squared_error,r2_score,mean_absolute_error#metrics to analyze the data\n",
    "from sklearn.linear_model import LinearRegression#for the model"
   ]
  },
  {
   "cell_type": "markdown",
   "id": "b0c6372b-ac9c-4675-94d3-722cae866170",
   "metadata": {},
   "source": [
    "**IMPORTING THE LIBRARY**"
   ]
  },
  {
   "cell_type": "code",
   "execution_count": 2,
   "id": "c8172cf1-67ee-45a4-a936-8da41a0881df",
   "metadata": {},
   "outputs": [],
   "source": [
    "df=pd.read_csv(\"\\\\Users\\\\adilm\\\\Downloads\\\\archive (39)\\\\Snitch_Fashion_Sales_Uncleaned.csv\")"
   ]
  },
  {
   "cell_type": "markdown",
   "id": "68c1d91e-48b8-4cc6-b4b6-f834ab8984b0",
   "metadata": {},
   "source": [
    "**FIRST 5 ROWS OF THE DATASET**"
   ]
  },
  {
   "cell_type": "code",
   "execution_count": 3,
   "id": "1fbbb8e2-1d40-49cc-935b-d86dfc0d7479",
   "metadata": {},
   "outputs": [
    {
     "data": {
      "text/html": [
       "<div>\n",
       "<style scoped>\n",
       "    .dataframe tbody tr th:only-of-type {\n",
       "        vertical-align: middle;\n",
       "    }\n",
       "\n",
       "    .dataframe tbody tr th {\n",
       "        vertical-align: top;\n",
       "    }\n",
       "\n",
       "    .dataframe thead th {\n",
       "        text-align: right;\n",
       "    }\n",
       "</style>\n",
       "<table border=\"1\" class=\"dataframe\">\n",
       "  <thead>\n",
       "    <tr style=\"text-align: right;\">\n",
       "      <th></th>\n",
       "      <th>Order_ID</th>\n",
       "      <th>Customer_Name</th>\n",
       "      <th>Product_Category</th>\n",
       "      <th>Product_Name</th>\n",
       "      <th>Units_Sold</th>\n",
       "      <th>Unit_Price</th>\n",
       "      <th>Discount_%</th>\n",
       "      <th>Sales_Amount</th>\n",
       "      <th>Order_Date</th>\n",
       "      <th>City</th>\n",
       "      <th>Segment</th>\n",
       "      <th>Profit</th>\n",
       "    </tr>\n",
       "  </thead>\n",
       "  <tbody>\n",
       "    <tr>\n",
       "      <th>0</th>\n",
       "      <td>1000</td>\n",
       "      <td>Brian Thompson</td>\n",
       "      <td>Jeans</td>\n",
       "      <td>Slim Fit Jeans</td>\n",
       "      <td>NaN</td>\n",
       "      <td>842.00</td>\n",
       "      <td>0.60</td>\n",
       "      <td>0.00</td>\n",
       "      <td>2025-02-27</td>\n",
       "      <td>Delhi</td>\n",
       "      <td>B2C</td>\n",
       "      <td>2137.45</td>\n",
       "    </tr>\n",
       "    <tr>\n",
       "      <th>1</th>\n",
       "      <td>1001</td>\n",
       "      <td>Shaun Ross</td>\n",
       "      <td>Jeans</td>\n",
       "      <td>Slim Fit Jeans</td>\n",
       "      <td>1.0</td>\n",
       "      <td>NaN</td>\n",
       "      <td>NaN</td>\n",
       "      <td>0.00</td>\n",
       "      <td>2025-07-15</td>\n",
       "      <td>Ahmedabad</td>\n",
       "      <td>NaN</td>\n",
       "      <td>1588.15</td>\n",
       "    </tr>\n",
       "    <tr>\n",
       "      <th>2</th>\n",
       "      <td>1002</td>\n",
       "      <td>Sarah Snyder</td>\n",
       "      <td>Jackets</td>\n",
       "      <td>Puffer Coat</td>\n",
       "      <td>1.0</td>\n",
       "      <td>637.82</td>\n",
       "      <td>NaN</td>\n",
       "      <td>0.00</td>\n",
       "      <td>02-01-2025</td>\n",
       "      <td>Mumbai</td>\n",
       "      <td>B2B</td>\n",
       "      <td>-158.03</td>\n",
       "    </tr>\n",
       "    <tr>\n",
       "      <th>3</th>\n",
       "      <td>1003</td>\n",
       "      <td>Jay Briggs</td>\n",
       "      <td>Shoes</td>\n",
       "      <td>Loafers</td>\n",
       "      <td>2.0</td>\n",
       "      <td>2962.27</td>\n",
       "      <td>NaN</td>\n",
       "      <td>0.00</td>\n",
       "      <td>18-06-2025</td>\n",
       "      <td>bengaluru</td>\n",
       "      <td>B2B</td>\n",
       "      <td>2296.50</td>\n",
       "    </tr>\n",
       "    <tr>\n",
       "      <th>4</th>\n",
       "      <td>1004</td>\n",
       "      <td>Maria Blake</td>\n",
       "      <td>Accessories</td>\n",
       "      <td>Belts</td>\n",
       "      <td>1.0</td>\n",
       "      <td>2881.07</td>\n",
       "      <td>0.27</td>\n",
       "      <td>2103.18</td>\n",
       "      <td>NaN</td>\n",
       "      <td>hyderbad</td>\n",
       "      <td>NaN</td>\n",
       "      <td>63.66</td>\n",
       "    </tr>\n",
       "  </tbody>\n",
       "</table>\n",
       "</div>"
      ],
      "text/plain": [
       "   Order_ID   Customer_Name Product_Category    Product_Name  Units_Sold  \\\n",
       "0      1000  Brian Thompson            Jeans  Slim Fit Jeans         NaN   \n",
       "1      1001      Shaun Ross            Jeans  Slim Fit Jeans         1.0   \n",
       "2      1002    Sarah Snyder          Jackets     Puffer Coat         1.0   \n",
       "3      1003      Jay Briggs            Shoes         Loafers         2.0   \n",
       "4      1004     Maria Blake      Accessories           Belts         1.0   \n",
       "\n",
       "   Unit_Price  Discount_%  Sales_Amount  Order_Date       City Segment  \\\n",
       "0      842.00        0.60          0.00  2025-02-27      Delhi     B2C   \n",
       "1         NaN         NaN          0.00  2025-07-15  Ahmedabad     NaN   \n",
       "2      637.82         NaN          0.00  02-01-2025     Mumbai     B2B   \n",
       "3     2962.27         NaN          0.00  18-06-2025  bengaluru     B2B   \n",
       "4     2881.07        0.27       2103.18         NaN   hyderbad     NaN   \n",
       "\n",
       "    Profit  \n",
       "0  2137.45  \n",
       "1  1588.15  \n",
       "2  -158.03  \n",
       "3  2296.50  \n",
       "4    63.66  "
      ]
     },
     "execution_count": 3,
     "metadata": {},
     "output_type": "execute_result"
    }
   ],
   "source": [
    "df.head(5)"
   ]
  },
  {
   "cell_type": "code",
   "execution_count": 4,
   "id": "a43d0f94-a0b6-4297-b886-c82448d389aa",
   "metadata": {},
   "outputs": [
    {
     "data": {
      "text/plain": [
       "(2500, 12)"
      ]
     },
     "execution_count": 4,
     "metadata": {},
     "output_type": "execute_result"
    }
   ],
   "source": [
    "df.shape# SHAPE OF THE DATASET"
   ]
  },
  {
   "cell_type": "code",
   "execution_count": 5,
   "id": "abce5ffd-33a6-4448-bcd5-b838e92f07da",
   "metadata": {},
   "outputs": [
    {
     "name": "stdout",
     "output_type": "stream",
     "text": [
      "<class 'pandas.core.frame.DataFrame'>\n",
      "RangeIndex: 2500 entries, 0 to 2499\n",
      "Data columns (total 12 columns):\n",
      " #   Column            Non-Null Count  Dtype  \n",
      "---  ------            --------------  -----  \n",
      " 0   Order_ID          2500 non-null   int64  \n",
      " 1   Customer_Name     2500 non-null   object \n",
      " 2   Product_Category  2500 non-null   object \n",
      " 3   Product_Name      2500 non-null   object \n",
      " 4   Units_Sold        1194 non-null   float64\n",
      " 5   Unit_Price        1290 non-null   float64\n",
      " 6   Discount_%        849 non-null    float64\n",
      " 7   Sales_Amount      2500 non-null   float64\n",
      " 8   Order_Date        1894 non-null   object \n",
      " 9   City              2500 non-null   object \n",
      " 10  Segment           1679 non-null   object \n",
      " 11  Profit            2500 non-null   float64\n",
      "dtypes: float64(5), int64(1), object(6)\n",
      "memory usage: 234.5+ KB\n"
     ]
    }
   ],
   "source": [
    "df.info() #CHECKING THE DATATYPES OF THE COLUMNS"
   ]
  },
  {
   "cell_type": "code",
   "execution_count": 6,
   "id": "a10268e2-3709-458b-ae87-b9abd494e5a4",
   "metadata": {},
   "outputs": [],
   "source": [
    "df['Date_Time'] = pd.to_datetime(df['Order_Date'], format='mixed', errors='coerce') #CONVERTING THE IT INTO DATE\n"
   ]
  },
  {
   "cell_type": "code",
   "execution_count": 7,
   "id": "8efd4f51-dd2f-4435-9356-d3428ebcfcd6",
   "metadata": {},
   "outputs": [
    {
     "data": {
      "text/plain": [
       "Order_ID               0\n",
       "Customer_Name          0\n",
       "Product_Category       0\n",
       "Product_Name           0\n",
       "Units_Sold          1306\n",
       "Unit_Price          1210\n",
       "Discount_%          1651\n",
       "Sales_Amount           0\n",
       "Order_Date           606\n",
       "City                   0\n",
       "Segment              821\n",
       "Profit                 0\n",
       "Date_Time            606\n",
       "dtype: int64"
      ]
     },
     "execution_count": 7,
     "metadata": {},
     "output_type": "execute_result"
    }
   ],
   "source": [
    "df.isna().sum()#CHECKING IF ANY DUPLICATES THERE OR NOT"
   ]
  },
  {
   "cell_type": "code",
   "execution_count": 8,
   "id": "af8afecb-1ec7-4e3a-8460-0446d271c0ae",
   "metadata": {},
   "outputs": [],
   "source": [
    "df['Units_Sold'] = df['Units_Sold'].fillna(df['Units_Sold'].median())\n",
    "df['Unit_Price'] = df['Unit_Price'].fillna(df['Unit_Price'].median())\n",
    "df['Discount_%'] = df['Discount_%'].fillna(df['Discount_%'].median())"
   ]
  },
  {
   "cell_type": "code",
   "execution_count": 9,
   "id": "8bc3c389-e662-492d-a9be-96b7630ca706",
   "metadata": {},
   "outputs": [
    {
     "data": {
      "text/plain": [
       "Order_ID              0\n",
       "Customer_Name         0\n",
       "Product_Category      0\n",
       "Product_Name          0\n",
       "Units_Sold            0\n",
       "Unit_Price            0\n",
       "Discount_%            0\n",
       "Sales_Amount          0\n",
       "Order_Date          606\n",
       "City                  0\n",
       "Segment             821\n",
       "Profit                0\n",
       "Date_Time           606\n",
       "dtype: int64"
      ]
     },
     "execution_count": 9,
     "metadata": {},
     "output_type": "execute_result"
    }
   ],
   "source": [
    "df.isna().sum()"
   ]
  },
  {
   "cell_type": "code",
   "execution_count": 10,
   "id": "92acd14b-9fba-4e2a-bb2a-cb271b805ff5",
   "metadata": {},
   "outputs": [],
   "source": [
    "df['Segment']=df['Segment'].fillna('unknown')"
   ]
  },
  {
   "cell_type": "code",
   "execution_count": 11,
   "id": "1039877e-2260-4007-b53d-8f8401a24afa",
   "metadata": {},
   "outputs": [],
   "source": [
    "df['Date_Time']=df['Date_Time'].fillna(df['Date_Time'].median())"
   ]
  },
  {
   "cell_type": "code",
   "execution_count": 12,
   "id": "06e29272-5015-4c79-beb0-592d29069c8f",
   "metadata": {},
   "outputs": [
    {
     "data": {
      "text/plain": [
       "Order_ID              0\n",
       "Customer_Name         0\n",
       "Product_Category      0\n",
       "Product_Name          0\n",
       "Units_Sold            0\n",
       "Unit_Price            0\n",
       "Discount_%            0\n",
       "Sales_Amount          0\n",
       "Order_Date          606\n",
       "City                  0\n",
       "Segment               0\n",
       "Profit                0\n",
       "Date_Time             0\n",
       "dtype: int64"
      ]
     },
     "execution_count": 12,
     "metadata": {},
     "output_type": "execute_result"
    }
   ],
   "source": [
    "df.isna().sum()"
   ]
  },
  {
   "cell_type": "code",
   "execution_count": 13,
   "id": "7617b57b-7aa0-40f3-8dca-ba22302478d1",
   "metadata": {},
   "outputs": [],
   "source": [
    "df1=df.drop(\"Order_Date\",axis=1)"
   ]
  },
  {
   "cell_type": "code",
   "execution_count": 14,
   "id": "0f101181-de90-43dc-9876-1c8abfac501e",
   "metadata": {},
   "outputs": [
    {
     "data": {
      "text/html": [
       "<div>\n",
       "<style scoped>\n",
       "    .dataframe tbody tr th:only-of-type {\n",
       "        vertical-align: middle;\n",
       "    }\n",
       "\n",
       "    .dataframe tbody tr th {\n",
       "        vertical-align: top;\n",
       "    }\n",
       "\n",
       "    .dataframe thead th {\n",
       "        text-align: right;\n",
       "    }\n",
       "</style>\n",
       "<table border=\"1\" class=\"dataframe\">\n",
       "  <thead>\n",
       "    <tr style=\"text-align: right;\">\n",
       "      <th></th>\n",
       "      <th>Order_ID</th>\n",
       "      <th>Customer_Name</th>\n",
       "      <th>Product_Category</th>\n",
       "      <th>Product_Name</th>\n",
       "      <th>Units_Sold</th>\n",
       "      <th>Unit_Price</th>\n",
       "      <th>Discount_%</th>\n",
       "      <th>Sales_Amount</th>\n",
       "      <th>City</th>\n",
       "      <th>Segment</th>\n",
       "      <th>Profit</th>\n",
       "      <th>Date_Time</th>\n",
       "    </tr>\n",
       "  </thead>\n",
       "  <tbody>\n",
       "    <tr>\n",
       "      <th>0</th>\n",
       "      <td>1000</td>\n",
       "      <td>Brian Thompson</td>\n",
       "      <td>Jeans</td>\n",
       "      <td>Slim Fit Jeans</td>\n",
       "      <td>2.0</td>\n",
       "      <td>842.000</td>\n",
       "      <td>0.60</td>\n",
       "      <td>0.0</td>\n",
       "      <td>Delhi</td>\n",
       "      <td>B2C</td>\n",
       "      <td>2137.45</td>\n",
       "      <td>2025-02-27</td>\n",
       "    </tr>\n",
       "    <tr>\n",
       "      <th>1</th>\n",
       "      <td>1001</td>\n",
       "      <td>Shaun Ross</td>\n",
       "      <td>Jeans</td>\n",
       "      <td>Slim Fit Jeans</td>\n",
       "      <td>1.0</td>\n",
       "      <td>2685.985</td>\n",
       "      <td>0.65</td>\n",
       "      <td>0.0</td>\n",
       "      <td>Ahmedabad</td>\n",
       "      <td>unknown</td>\n",
       "      <td>1588.15</td>\n",
       "      <td>2025-07-15</td>\n",
       "    </tr>\n",
       "  </tbody>\n",
       "</table>\n",
       "</div>"
      ],
      "text/plain": [
       "   Order_ID   Customer_Name Product_Category    Product_Name  Units_Sold  \\\n",
       "0      1000  Brian Thompson            Jeans  Slim Fit Jeans         2.0   \n",
       "1      1001      Shaun Ross            Jeans  Slim Fit Jeans         1.0   \n",
       "\n",
       "   Unit_Price  Discount_%  Sales_Amount       City  Segment   Profit  \\\n",
       "0     842.000        0.60           0.0      Delhi      B2C  2137.45   \n",
       "1    2685.985        0.65           0.0  Ahmedabad  unknown  1588.15   \n",
       "\n",
       "   Date_Time  \n",
       "0 2025-02-27  \n",
       "1 2025-07-15  "
      ]
     },
     "execution_count": 14,
     "metadata": {},
     "output_type": "execute_result"
    }
   ],
   "source": [
    "df1.head(2)"
   ]
  },
  {
   "cell_type": "code",
   "execution_count": 15,
   "id": "ec7151d8-b891-4374-9284-d133d70c9970",
   "metadata": {},
   "outputs": [],
   "source": [
    "df2=df1.drop(\"Customer_Name\",axis=1)"
   ]
  },
  {
   "cell_type": "code",
   "execution_count": 16,
   "id": "42a898a2-4856-4905-8cc8-2dc72fb1d300",
   "metadata": {},
   "outputs": [],
   "source": [
    "df2[\"total sales\"]=df2['Units_Sold']*df2['Unit_Price']"
   ]
  },
  {
   "cell_type": "code",
   "execution_count": 17,
   "id": "df4fb7bb-76d2-4e8d-9793-051e9db8e2a6",
   "metadata": {},
   "outputs": [
    {
     "data": {
      "text/plain": [
       "0"
      ]
     },
     "execution_count": 17,
     "metadata": {},
     "output_type": "execute_result"
    }
   ],
   "source": [
    "df2.duplicated().sum()\n",
    "#we dont have any duplicate values"
   ]
  },
  {
   "cell_type": "code",
   "execution_count": 18,
   "id": "7785bf17-ec0d-4737-8d8a-74e07629ba03",
   "metadata": {},
   "outputs": [
    {
     "name": "stdout",
     "output_type": "stream",
     "text": [
      "<class 'pandas.core.frame.DataFrame'>\n",
      "RangeIndex: 2500 entries, 0 to 2499\n",
      "Data columns (total 12 columns):\n",
      " #   Column            Non-Null Count  Dtype         \n",
      "---  ------            --------------  -----         \n",
      " 0   Order_ID          2500 non-null   int64         \n",
      " 1   Product_Category  2500 non-null   object        \n",
      " 2   Product_Name      2500 non-null   object        \n",
      " 3   Units_Sold        2500 non-null   float64       \n",
      " 4   Unit_Price        2500 non-null   float64       \n",
      " 5   Discount_%        2500 non-null   float64       \n",
      " 6   Sales_Amount      2500 non-null   float64       \n",
      " 7   City              2500 non-null   object        \n",
      " 8   Segment           2500 non-null   object        \n",
      " 9   Profit            2500 non-null   float64       \n",
      " 10  Date_Time         2500 non-null   datetime64[ns]\n",
      " 11  total sales       2500 non-null   float64       \n",
      "dtypes: datetime64[ns](1), float64(6), int64(1), object(4)\n",
      "memory usage: 234.5+ KB\n"
     ]
    }
   ],
   "source": [
    "df2.info()"
   ]
  },
  {
   "cell_type": "code",
   "execution_count": 19,
   "id": "8c9622ec-b518-4301-8421-9dd34781523d",
   "metadata": {},
   "outputs": [
    {
     "data": {
      "text/html": [
       "<div>\n",
       "<style scoped>\n",
       "    .dataframe tbody tr th:only-of-type {\n",
       "        vertical-align: middle;\n",
       "    }\n",
       "\n",
       "    .dataframe tbody tr th {\n",
       "        vertical-align: top;\n",
       "    }\n",
       "\n",
       "    .dataframe thead th {\n",
       "        text-align: right;\n",
       "    }\n",
       "</style>\n",
       "<table border=\"1\" class=\"dataframe\">\n",
       "  <thead>\n",
       "    <tr style=\"text-align: right;\">\n",
       "      <th></th>\n",
       "      <th>Order_ID</th>\n",
       "      <th>Units_Sold</th>\n",
       "      <th>Unit_Price</th>\n",
       "      <th>Discount_%</th>\n",
       "      <th>Sales_Amount</th>\n",
       "      <th>Profit</th>\n",
       "      <th>Date_Time</th>\n",
       "      <th>total sales</th>\n",
       "    </tr>\n",
       "  </thead>\n",
       "  <tbody>\n",
       "    <tr>\n",
       "      <th>count</th>\n",
       "      <td>2500.000000</td>\n",
       "      <td>2500.000000</td>\n",
       "      <td>2500.000000</td>\n",
       "      <td>2500.000000</td>\n",
       "      <td>2500.000000</td>\n",
       "      <td>2500.000000</td>\n",
       "      <td>2500</td>\n",
       "      <td>2500.000000</td>\n",
       "    </tr>\n",
       "    <tr>\n",
       "      <th>mean</th>\n",
       "      <td>2193.060000</td>\n",
       "      <td>1.971600</td>\n",
       "      <td>2688.941952</td>\n",
       "      <td>0.648800</td>\n",
       "      <td>126.756252</td>\n",
       "      <td>981.569032</td>\n",
       "      <td>2024-11-29 10:18:37.440000</td>\n",
       "      <td>5282.004342</td>\n",
       "    </tr>\n",
       "    <tr>\n",
       "      <th>min</th>\n",
       "      <td>1000.000000</td>\n",
       "      <td>-2.000000</td>\n",
       "      <td>400.210000</td>\n",
       "      <td>0.000000</td>\n",
       "      <td>-7518.330000</td>\n",
       "      <td>-992.610000</td>\n",
       "      <td>2023-07-23 00:00:00</td>\n",
       "      <td>-9898.340000</td>\n",
       "    </tr>\n",
       "    <tr>\n",
       "      <th>25%</th>\n",
       "      <td>1543.750000</td>\n",
       "      <td>2.000000</td>\n",
       "      <td>2627.007500</td>\n",
       "      <td>0.650000</td>\n",
       "      <td>0.000000</td>\n",
       "      <td>-19.670000</td>\n",
       "      <td>2024-09-26 18:00:00</td>\n",
       "      <td>2685.985000</td>\n",
       "    </tr>\n",
       "    <tr>\n",
       "      <th>50%</th>\n",
       "      <td>2182.500000</td>\n",
       "      <td>2.000000</td>\n",
       "      <td>2685.985000</td>\n",
       "      <td>0.650000</td>\n",
       "      <td>0.000000</td>\n",
       "      <td>947.885000</td>\n",
       "      <td>2024-12-21 00:00:00</td>\n",
       "      <td>5371.970000</td>\n",
       "    </tr>\n",
       "    <tr>\n",
       "      <th>75%</th>\n",
       "      <td>2842.250000</td>\n",
       "      <td>2.000000</td>\n",
       "      <td>2739.635000</td>\n",
       "      <td>0.650000</td>\n",
       "      <td>0.000000</td>\n",
       "      <td>1993.515000</td>\n",
       "      <td>2025-03-07 00:00:00</td>\n",
       "      <td>7527.595000</td>\n",
       "    </tr>\n",
       "    <tr>\n",
       "      <th>max</th>\n",
       "      <td>3499.000000</td>\n",
       "      <td>6.000000</td>\n",
       "      <td>4998.910000</td>\n",
       "      <td>1.300000</td>\n",
       "      <td>29180.680000</td>\n",
       "      <td>2997.110000</td>\n",
       "      <td>2025-12-07 00:00:00</td>\n",
       "      <td>29907.900000</td>\n",
       "    </tr>\n",
       "    <tr>\n",
       "      <th>std</th>\n",
       "      <td>748.063846</td>\n",
       "      <td>1.814417</td>\n",
       "      <td>948.346253</td>\n",
       "      <td>0.221559</td>\n",
       "      <td>1464.944525</td>\n",
       "      <td>1159.159244</td>\n",
       "      <td>NaN</td>\n",
       "      <td>5516.808294</td>\n",
       "    </tr>\n",
       "  </tbody>\n",
       "</table>\n",
       "</div>"
      ],
      "text/plain": [
       "          Order_ID   Units_Sold   Unit_Price   Discount_%  Sales_Amount  \\\n",
       "count  2500.000000  2500.000000  2500.000000  2500.000000   2500.000000   \n",
       "mean   2193.060000     1.971600  2688.941952     0.648800    126.756252   \n",
       "min    1000.000000    -2.000000   400.210000     0.000000  -7518.330000   \n",
       "25%    1543.750000     2.000000  2627.007500     0.650000      0.000000   \n",
       "50%    2182.500000     2.000000  2685.985000     0.650000      0.000000   \n",
       "75%    2842.250000     2.000000  2739.635000     0.650000      0.000000   \n",
       "max    3499.000000     6.000000  4998.910000     1.300000  29180.680000   \n",
       "std     748.063846     1.814417   948.346253     0.221559   1464.944525   \n",
       "\n",
       "            Profit                   Date_Time   total sales  \n",
       "count  2500.000000                        2500   2500.000000  \n",
       "mean    981.569032  2024-11-29 10:18:37.440000   5282.004342  \n",
       "min    -992.610000         2023-07-23 00:00:00  -9898.340000  \n",
       "25%     -19.670000         2024-09-26 18:00:00   2685.985000  \n",
       "50%     947.885000         2024-12-21 00:00:00   5371.970000  \n",
       "75%    1993.515000         2025-03-07 00:00:00   7527.595000  \n",
       "max    2997.110000         2025-12-07 00:00:00  29907.900000  \n",
       "std    1159.159244                         NaN   5516.808294  "
      ]
     },
     "execution_count": 19,
     "metadata": {},
     "output_type": "execute_result"
    }
   ],
   "source": [
    "df2.describe()"
   ]
  },
  {
   "cell_type": "code",
   "execution_count": 20,
   "id": "4fe7c1f0-ca8c-47e9-bbc5-ca5e7c19c295",
   "metadata": {},
   "outputs": [
    {
     "data": {
      "text/plain": [
       "'\\nwe have profit negative term which we should remove \\nwe should remove unit solds negative\\n'"
      ]
     },
     "execution_count": 20,
     "metadata": {},
     "output_type": "execute_result"
    }
   ],
   "source": [
    "'''\n",
    "we have profit negative term which we should remove \n",
    "we should remove unit solds negative\n",
    "'''"
   ]
  },
  {
   "cell_type": "code",
   "execution_count": 21,
   "id": "0a6f77b7-5885-4998-8741-7e86a34079f7",
   "metadata": {},
   "outputs": [],
   "source": [
    "df2['Profit']=df2['Profit'].astype(str)\n",
    "df2['Units_Sold']=df2['Units_Sold'].astype(str)"
   ]
  },
  {
   "cell_type": "code",
   "execution_count": 22,
   "id": "bde47626-6a2a-4f52-afd1-79a70e5e861b",
   "metadata": {},
   "outputs": [],
   "source": [
    "df2['Profit']=df2['Profit'].str.replace(\"-\",\"\",regex=False)\n",
    "df2['Units_Sold']=df2['Units_Sold'].str.replace(\"-\",\"\",regex=False)"
   ]
  },
  {
   "cell_type": "code",
   "execution_count": 23,
   "id": "8a61949a-0038-4790-82b7-4265d8eab7be",
   "metadata": {},
   "outputs": [],
   "source": [
    "df2['Profit']=df2['Profit'].astype(float).astype(int)\n",
    "df2['Units_Sold']=df2['Units_Sold'].astype(float).astype(int)"
   ]
  },
  {
   "cell_type": "code",
   "execution_count": 24,
   "id": "6e5dcc36-f2ca-49e3-8a8f-5400619986e0",
   "metadata": {},
   "outputs": [],
   "source": [
    "# Convert to datetime, invalid entries become NaT\n",
    "df2['Date_Time'] = pd.to_datetime(df2['Date_Time'], errors='coerce')\n",
    "\n",
    "# Replace NaT with 'Unknown'\n",
    "df2['Date_Time'] = df2['Date_Time'].fillna(\"Unknown\")"
   ]
  },
  {
   "cell_type": "code",
   "execution_count": 25,
   "id": "5f592adb-3253-457f-a1c8-2cad34654c0c",
   "metadata": {},
   "outputs": [
    {
     "data": {
      "text/html": [
       "<div>\n",
       "<style scoped>\n",
       "    .dataframe tbody tr th:only-of-type {\n",
       "        vertical-align: middle;\n",
       "    }\n",
       "\n",
       "    .dataframe tbody tr th {\n",
       "        vertical-align: top;\n",
       "    }\n",
       "\n",
       "    .dataframe thead th {\n",
       "        text-align: right;\n",
       "    }\n",
       "</style>\n",
       "<table border=\"1\" class=\"dataframe\">\n",
       "  <thead>\n",
       "    <tr style=\"text-align: right;\">\n",
       "      <th></th>\n",
       "      <th>Order_ID</th>\n",
       "      <th>Units_Sold</th>\n",
       "      <th>Unit_Price</th>\n",
       "      <th>Discount_%</th>\n",
       "      <th>Sales_Amount</th>\n",
       "      <th>Profit</th>\n",
       "      <th>Date_Time</th>\n",
       "      <th>total sales</th>\n",
       "    </tr>\n",
       "  </thead>\n",
       "  <tbody>\n",
       "    <tr>\n",
       "      <th>count</th>\n",
       "      <td>2500.000000</td>\n",
       "      <td>2500.000000</td>\n",
       "      <td>2500.000000</td>\n",
       "      <td>2500.000000</td>\n",
       "      <td>2500.000000</td>\n",
       "      <td>2500.000000</td>\n",
       "      <td>2500</td>\n",
       "      <td>2500.000000</td>\n",
       "    </tr>\n",
       "    <tr>\n",
       "      <th>mean</th>\n",
       "      <td>2193.060000</td>\n",
       "      <td>2.313200</td>\n",
       "      <td>2688.941952</td>\n",
       "      <td>0.648800</td>\n",
       "      <td>126.756252</td>\n",
       "      <td>1240.520000</td>\n",
       "      <td>2024-11-29 10:18:37.440000</td>\n",
       "      <td>5282.004342</td>\n",
       "    </tr>\n",
       "    <tr>\n",
       "      <th>min</th>\n",
       "      <td>1000.000000</td>\n",
       "      <td>0.000000</td>\n",
       "      <td>400.210000</td>\n",
       "      <td>0.000000</td>\n",
       "      <td>-7518.330000</td>\n",
       "      <td>0.000000</td>\n",
       "      <td>2023-07-23 00:00:00</td>\n",
       "      <td>-9898.340000</td>\n",
       "    </tr>\n",
       "    <tr>\n",
       "      <th>25%</th>\n",
       "      <td>1543.750000</td>\n",
       "      <td>2.000000</td>\n",
       "      <td>2627.007500</td>\n",
       "      <td>0.650000</td>\n",
       "      <td>0.000000</td>\n",
       "      <td>520.750000</td>\n",
       "      <td>2024-09-26 18:00:00</td>\n",
       "      <td>2685.985000</td>\n",
       "    </tr>\n",
       "    <tr>\n",
       "      <th>50%</th>\n",
       "      <td>2182.500000</td>\n",
       "      <td>2.000000</td>\n",
       "      <td>2685.985000</td>\n",
       "      <td>0.650000</td>\n",
       "      <td>0.000000</td>\n",
       "      <td>970.500000</td>\n",
       "      <td>2024-12-21 00:00:00</td>\n",
       "      <td>5371.970000</td>\n",
       "    </tr>\n",
       "    <tr>\n",
       "      <th>75%</th>\n",
       "      <td>2842.250000</td>\n",
       "      <td>2.000000</td>\n",
       "      <td>2739.635000</td>\n",
       "      <td>0.650000</td>\n",
       "      <td>0.000000</td>\n",
       "      <td>1992.750000</td>\n",
       "      <td>2025-03-07 00:00:00</td>\n",
       "      <td>7527.595000</td>\n",
       "    </tr>\n",
       "    <tr>\n",
       "      <th>max</th>\n",
       "      <td>3499.000000</td>\n",
       "      <td>6.000000</td>\n",
       "      <td>4998.910000</td>\n",
       "      <td>1.300000</td>\n",
       "      <td>29180.680000</td>\n",
       "      <td>2997.000000</td>\n",
       "      <td>2025-12-07 00:00:00</td>\n",
       "      <td>29907.900000</td>\n",
       "    </tr>\n",
       "    <tr>\n",
       "      <th>std</th>\n",
       "      <td>748.063846</td>\n",
       "      <td>1.351975</td>\n",
       "      <td>948.346253</td>\n",
       "      <td>0.221559</td>\n",
       "      <td>1464.944525</td>\n",
       "      <td>875.668425</td>\n",
       "      <td>NaN</td>\n",
       "      <td>5516.808294</td>\n",
       "    </tr>\n",
       "  </tbody>\n",
       "</table>\n",
       "</div>"
      ],
      "text/plain": [
       "          Order_ID   Units_Sold   Unit_Price   Discount_%  Sales_Amount  \\\n",
       "count  2500.000000  2500.000000  2500.000000  2500.000000   2500.000000   \n",
       "mean   2193.060000     2.313200  2688.941952     0.648800    126.756252   \n",
       "min    1000.000000     0.000000   400.210000     0.000000  -7518.330000   \n",
       "25%    1543.750000     2.000000  2627.007500     0.650000      0.000000   \n",
       "50%    2182.500000     2.000000  2685.985000     0.650000      0.000000   \n",
       "75%    2842.250000     2.000000  2739.635000     0.650000      0.000000   \n",
       "max    3499.000000     6.000000  4998.910000     1.300000  29180.680000   \n",
       "std     748.063846     1.351975   948.346253     0.221559   1464.944525   \n",
       "\n",
       "            Profit                   Date_Time   total sales  \n",
       "count  2500.000000                        2500   2500.000000  \n",
       "mean   1240.520000  2024-11-29 10:18:37.440000   5282.004342  \n",
       "min       0.000000         2023-07-23 00:00:00  -9898.340000  \n",
       "25%     520.750000         2024-09-26 18:00:00   2685.985000  \n",
       "50%     970.500000         2024-12-21 00:00:00   5371.970000  \n",
       "75%    1992.750000         2025-03-07 00:00:00   7527.595000  \n",
       "max    2997.000000         2025-12-07 00:00:00  29907.900000  \n",
       "std     875.668425                         NaN   5516.808294  "
      ]
     },
     "execution_count": 25,
     "metadata": {},
     "output_type": "execute_result"
    }
   ],
   "source": [
    "df2.describe()"
   ]
  },
  {
   "cell_type": "code",
   "execution_count": 26,
   "id": "1f2826c2-4696-4f01-931c-811c0520abb6",
   "metadata": {},
   "outputs": [
    {
     "data": {
      "text/html": [
       "<div>\n",
       "<style scoped>\n",
       "    .dataframe tbody tr th:only-of-type {\n",
       "        vertical-align: middle;\n",
       "    }\n",
       "\n",
       "    .dataframe tbody tr th {\n",
       "        vertical-align: top;\n",
       "    }\n",
       "\n",
       "    .dataframe thead th {\n",
       "        text-align: right;\n",
       "    }\n",
       "</style>\n",
       "<table border=\"1\" class=\"dataframe\">\n",
       "  <thead>\n",
       "    <tr style=\"text-align: right;\">\n",
       "      <th></th>\n",
       "      <th>Order_ID</th>\n",
       "      <th>Product_Category</th>\n",
       "      <th>Product_Name</th>\n",
       "      <th>Units_Sold</th>\n",
       "      <th>Unit_Price</th>\n",
       "      <th>Discount_%</th>\n",
       "      <th>Sales_Amount</th>\n",
       "      <th>City</th>\n",
       "      <th>Segment</th>\n",
       "      <th>Profit</th>\n",
       "      <th>Date_Time</th>\n",
       "      <th>total sales</th>\n",
       "    </tr>\n",
       "  </thead>\n",
       "  <tbody>\n",
       "    <tr>\n",
       "      <th>0</th>\n",
       "      <td>1000</td>\n",
       "      <td>Jeans</td>\n",
       "      <td>Slim Fit Jeans</td>\n",
       "      <td>2</td>\n",
       "      <td>842.000</td>\n",
       "      <td>0.60</td>\n",
       "      <td>0.00</td>\n",
       "      <td>Delhi</td>\n",
       "      <td>B2C</td>\n",
       "      <td>2137</td>\n",
       "      <td>2025-02-27</td>\n",
       "      <td>1684.000</td>\n",
       "    </tr>\n",
       "    <tr>\n",
       "      <th>1</th>\n",
       "      <td>1001</td>\n",
       "      <td>Jeans</td>\n",
       "      <td>Slim Fit Jeans</td>\n",
       "      <td>1</td>\n",
       "      <td>2685.985</td>\n",
       "      <td>0.65</td>\n",
       "      <td>0.00</td>\n",
       "      <td>Ahmedabad</td>\n",
       "      <td>unknown</td>\n",
       "      <td>1588</td>\n",
       "      <td>2025-07-15</td>\n",
       "      <td>2685.985</td>\n",
       "    </tr>\n",
       "    <tr>\n",
       "      <th>2</th>\n",
       "      <td>1002</td>\n",
       "      <td>Jackets</td>\n",
       "      <td>Puffer Coat</td>\n",
       "      <td>1</td>\n",
       "      <td>637.820</td>\n",
       "      <td>0.65</td>\n",
       "      <td>0.00</td>\n",
       "      <td>Mumbai</td>\n",
       "      <td>B2B</td>\n",
       "      <td>158</td>\n",
       "      <td>2025-02-01</td>\n",
       "      <td>637.820</td>\n",
       "    </tr>\n",
       "    <tr>\n",
       "      <th>3</th>\n",
       "      <td>1003</td>\n",
       "      <td>Shoes</td>\n",
       "      <td>Loafers</td>\n",
       "      <td>2</td>\n",
       "      <td>2962.270</td>\n",
       "      <td>0.65</td>\n",
       "      <td>0.00</td>\n",
       "      <td>bengaluru</td>\n",
       "      <td>B2B</td>\n",
       "      <td>2296</td>\n",
       "      <td>2025-06-18</td>\n",
       "      <td>5924.540</td>\n",
       "    </tr>\n",
       "    <tr>\n",
       "      <th>4</th>\n",
       "      <td>1004</td>\n",
       "      <td>Accessories</td>\n",
       "      <td>Belts</td>\n",
       "      <td>1</td>\n",
       "      <td>2881.070</td>\n",
       "      <td>0.27</td>\n",
       "      <td>2103.18</td>\n",
       "      <td>hyderbad</td>\n",
       "      <td>unknown</td>\n",
       "      <td>63</td>\n",
       "      <td>2024-12-21</td>\n",
       "      <td>2881.070</td>\n",
       "    </tr>\n",
       "  </tbody>\n",
       "</table>\n",
       "</div>"
      ],
      "text/plain": [
       "   Order_ID Product_Category    Product_Name  Units_Sold  Unit_Price  \\\n",
       "0      1000            Jeans  Slim Fit Jeans           2     842.000   \n",
       "1      1001            Jeans  Slim Fit Jeans           1    2685.985   \n",
       "2      1002          Jackets     Puffer Coat           1     637.820   \n",
       "3      1003            Shoes         Loafers           2    2962.270   \n",
       "4      1004      Accessories           Belts           1    2881.070   \n",
       "\n",
       "   Discount_%  Sales_Amount       City  Segment  Profit  Date_Time  \\\n",
       "0        0.60          0.00      Delhi      B2C    2137 2025-02-27   \n",
       "1        0.65          0.00  Ahmedabad  unknown    1588 2025-07-15   \n",
       "2        0.65          0.00     Mumbai      B2B     158 2025-02-01   \n",
       "3        0.65          0.00  bengaluru      B2B    2296 2025-06-18   \n",
       "4        0.27       2103.18   hyderbad  unknown      63 2024-12-21   \n",
       "\n",
       "   total sales  \n",
       "0     1684.000  \n",
       "1     2685.985  \n",
       "2      637.820  \n",
       "3     5924.540  \n",
       "4     2881.070  "
      ]
     },
     "execution_count": 26,
     "metadata": {},
     "output_type": "execute_result"
    }
   ],
   "source": [
    "df2.head()"
   ]
  },
  {
   "cell_type": "code",
   "execution_count": 27,
   "id": "550b172c-8dac-49e6-8918-144049297f93",
   "metadata": {},
   "outputs": [],
   "source": [
    "df2.drop(df2[df2['Profit'] > df2['total sales']].index, inplace=True)"
   ]
  },
  {
   "cell_type": "code",
   "execution_count": 28,
   "id": "78cf430c-ce44-4b66-b188-2137368857a3",
   "metadata": {},
   "outputs": [],
   "source": [
    "df2.drop(df2[df2['Profit'] <400].index, inplace=True)"
   ]
  },
  {
   "cell_type": "code",
   "execution_count": 29,
   "id": "dffb0f14-be3b-44c4-b642-179e1793499e",
   "metadata": {},
   "outputs": [
    {
     "data": {
      "text/plain": [
       "array(['Ahmedabad', 'bengaluru', 'Mumbai', 'Bangalore', 'Pune', 'Hyd',\n",
       "       'Hyderabad', 'hyderbad', 'Delhi'], dtype=object)"
      ]
     },
     "execution_count": 29,
     "metadata": {},
     "output_type": "execute_result"
    }
   ],
   "source": [
    "df2['City'].unique()"
   ]
  },
  {
   "cell_type": "code",
   "execution_count": 30,
   "id": "c6b88dd0-2f97-4c59-9f64-22b319b2a785",
   "metadata": {},
   "outputs": [
    {
     "data": {
      "text/plain": [
       "array(['Jeans', 'Shoes', 'T-Shirts', 'Dresses', 'Accessories', 'Jackets'],\n",
       "      dtype=object)"
      ]
     },
     "execution_count": 30,
     "metadata": {},
     "output_type": "execute_result"
    }
   ],
   "source": [
    "df2['Product_Category'].unique()"
   ]
  },
  {
   "cell_type": "code",
   "execution_count": 31,
   "id": "037ffb65-c2c8-44ab-aa6e-14539e42bd2a",
   "metadata": {},
   "outputs": [],
   "source": [
    "df2['City']=df2['City'].str.replace(\"hyderbad\",\"Hyderabad\",regex=False)"
   ]
  },
  {
   "cell_type": "code",
   "execution_count": 32,
   "id": "71ac8417-44de-4b30-8651-505a737adb62",
   "metadata": {},
   "outputs": [],
   "source": [
    "df2['City']=df2['City'].str.replace(\"Hyd\",\"Hyderabad\",regex=False)"
   ]
  },
  {
   "cell_type": "code",
   "execution_count": 33,
   "id": "70917d0a-e77e-4dba-a9a8-8825b66958b5",
   "metadata": {},
   "outputs": [],
   "source": [
    "df2['City']=df2['City'].str.replace(\"Banglore\",\"bengaluru\",regex=False)"
   ]
  },
  {
   "cell_type": "code",
   "execution_count": 34,
   "id": "71bb26d2-dc03-4dbb-8f30-9da6997689a4",
   "metadata": {},
   "outputs": [],
   "source": [
    "df2['City']=df2['City'].str.replace(\"Bangalore\",\"bengaluru\",regex=False)"
   ]
  },
  {
   "cell_type": "code",
   "execution_count": 35,
   "id": "b617d664-e9fc-445e-b11c-c7b669471297",
   "metadata": {},
   "outputs": [],
   "source": [
    "df2['Final_Saving']=(df2['total sales'] *(1-df2['Discount_%']))"
   ]
  },
  {
   "cell_type": "code",
   "execution_count": 36,
   "id": "295baeee-b8b4-4dbe-9be4-0cff0fff2baf",
   "metadata": {},
   "outputs": [
    {
     "data": {
      "text/html": [
       "<div>\n",
       "<style scoped>\n",
       "    .dataframe tbody tr th:only-of-type {\n",
       "        vertical-align: middle;\n",
       "    }\n",
       "\n",
       "    .dataframe tbody tr th {\n",
       "        vertical-align: top;\n",
       "    }\n",
       "\n",
       "    .dataframe thead th {\n",
       "        text-align: right;\n",
       "    }\n",
       "</style>\n",
       "<table border=\"1\" class=\"dataframe\">\n",
       "  <thead>\n",
       "    <tr style=\"text-align: right;\">\n",
       "      <th></th>\n",
       "      <th>Order_ID</th>\n",
       "      <th>Product_Category</th>\n",
       "      <th>Product_Name</th>\n",
       "      <th>Units_Sold</th>\n",
       "      <th>Unit_Price</th>\n",
       "      <th>Discount_%</th>\n",
       "      <th>Sales_Amount</th>\n",
       "      <th>City</th>\n",
       "      <th>Segment</th>\n",
       "      <th>Profit</th>\n",
       "      <th>Date_Time</th>\n",
       "      <th>total sales</th>\n",
       "      <th>Final_Saving</th>\n",
       "    </tr>\n",
       "  </thead>\n",
       "  <tbody>\n",
       "    <tr>\n",
       "      <th>1</th>\n",
       "      <td>1001</td>\n",
       "      <td>Jeans</td>\n",
       "      <td>Slim Fit Jeans</td>\n",
       "      <td>1</td>\n",
       "      <td>2685.985</td>\n",
       "      <td>0.65</td>\n",
       "      <td>0.0</td>\n",
       "      <td>Ahmedabad</td>\n",
       "      <td>unknown</td>\n",
       "      <td>1588</td>\n",
       "      <td>2025-07-15</td>\n",
       "      <td>2685.985</td>\n",
       "      <td>940.09475</td>\n",
       "    </tr>\n",
       "    <tr>\n",
       "      <th>3</th>\n",
       "      <td>1003</td>\n",
       "      <td>Shoes</td>\n",
       "      <td>Loafers</td>\n",
       "      <td>2</td>\n",
       "      <td>2962.270</td>\n",
       "      <td>0.65</td>\n",
       "      <td>0.0</td>\n",
       "      <td>bengaluru</td>\n",
       "      <td>B2B</td>\n",
       "      <td>2296</td>\n",
       "      <td>2025-06-18</td>\n",
       "      <td>5924.540</td>\n",
       "      <td>2073.58900</td>\n",
       "    </tr>\n",
       "  </tbody>\n",
       "</table>\n",
       "</div>"
      ],
      "text/plain": [
       "   Order_ID Product_Category    Product_Name  Units_Sold  Unit_Price  \\\n",
       "1      1001            Jeans  Slim Fit Jeans           1    2685.985   \n",
       "3      1003            Shoes         Loafers           2    2962.270   \n",
       "\n",
       "   Discount_%  Sales_Amount       City  Segment  Profit  Date_Time  \\\n",
       "1        0.65           0.0  Ahmedabad  unknown    1588 2025-07-15   \n",
       "3        0.65           0.0  bengaluru      B2B    2296 2025-06-18   \n",
       "\n",
       "   total sales  Final_Saving  \n",
       "1     2685.985     940.09475  \n",
       "3     5924.540    2073.58900  "
      ]
     },
     "execution_count": 36,
     "metadata": {},
     "output_type": "execute_result"
    }
   ],
   "source": [
    "df2.head(2)\n",
    "#if the discound was given 65 percent "
   ]
  },
  {
   "cell_type": "code",
   "execution_count": 37,
   "id": "43a67fde-3672-42a9-be32-5785e5cfb3ea",
   "metadata": {},
   "outputs": [],
   "source": [
    "df3=df2.drop(\"Profit\",axis=True)"
   ]
  },
  {
   "cell_type": "code",
   "execution_count": 38,
   "id": "1c6c80f5-0248-4258-9b8d-bd78442e27f8",
   "metadata": {},
   "outputs": [],
   "source": [
    "df3.rename(columns={'total sales': 'actual_Price'}, inplace=True)\n",
    "df3.rename(columns={'Final_Saving': 'Selling_Price'}, inplace=True)\n"
   ]
  },
  {
   "cell_type": "code",
   "execution_count": 39,
   "id": "df88b9ad-1b0a-46cf-93ad-4569bc928368",
   "metadata": {},
   "outputs": [],
   "source": [
    "# statistics"
   ]
  },
  {
   "cell_type": "code",
   "execution_count": 40,
   "id": "7e52ceb3-70e9-41f9-9293-bdd4c859ea95",
   "metadata": {},
   "outputs": [
    {
     "data": {
      "image/png": "[encoded data removed]",
      "text/plain": [
       "<Figure size 700x200 with 1 Axes>"
      ]
     },
     "metadata": {},
     "output_type": "display_data"
    }
   ],
   "source": [
    "plt.figure(figsize=(7, 2))\n",
    "sns.boxplot(data=df3, x='Selling_Price', fliersize=1)\n",
    "\n",
    "plt.title(\"Price Outlier Detection\", fontsize=14)  \n",
    "plt.xlabel(\"Final Saving\", fontsize=12)           \n",
    "plt.ylabel(\"\", fontsize=12)                        \n",
    "plt.tick_params(axis='x', labelsize=10)             \n",
    "\n",
    "plt.show()"
   ]
  },
  {
   "cell_type": "code",
   "execution_count": 41,
   "id": "786bdbb8-9e75-4df7-8650-f37f50410c88",
   "metadata": {},
   "outputs": [
    {
     "name": "stdout",
     "output_type": "stream",
     "text": [
      "Original rows: 1615, After removing outliers: 1478\n"
     ]
    }
   ],
   "source": [
    "Q1 = df3['Selling_Price'].quantile(0.25)   # First quartile\n",
    "Q3 = df3['Selling_Price'].quantile(0.75)   # Third quartile\n",
    "IQR = Q3 - Q1                             # Interquartile range\n",
    "\n",
    "# Define lower and upper bounds\n",
    "lower_bound = Q1 - 1.5 * IQR\n",
    "upper_bound = Q3 + 1.5 * IQR\n",
    "\n",
    "# Filter data\n",
    "df_no_outliers = df3[(df3['Selling_Price'] >= lower_bound) & (df3['Selling_Price'] <= upper_bound)]\n",
    "\n",
    "print(f\"Original rows: {len(df3)}, After removing outliers: {len(df_no_outliers)}\")"
   ]
  },
  {
   "cell_type": "code",
   "execution_count": 42,
   "id": "0cb00410-ea01-47d6-ba95-dbfd82ff79c3",
   "metadata": {},
   "outputs": [
    {
     "name": "stdout",
     "output_type": "stream",
     "text": [
      "total in hand :4002391.40375\n"
     ]
    }
   ],
   "source": [
    "h=df3['Selling_Price'].sum()\n",
    "print(f\"total in hand :{h}\")"
   ]
  },
  {
   "cell_type": "code",
   "execution_count": 43,
   "id": "c327977a-75fb-4e18-a43f-deaf4a0f7869",
   "metadata": {},
   "outputs": [
    {
     "name": "stdout",
     "output_type": "stream",
     "text": [
      "the total units sold are :4219\n"
     ]
    }
   ],
   "source": [
    "h=df3['Units_Sold'].sum()\n",
    "print(f\"the total units sold are :{h}\")"
   ]
  },
  {
   "cell_type": "code",
   "execution_count": 44,
   "id": "5ee91f6f-ba90-41c1-b34e-6c12769c608a",
   "metadata": {},
   "outputs": [
    {
     "name": "stdout",
     "output_type": "stream",
     "text": [
      "0    the most famous product is  Dresses\n",
      "Name: Product_Category, dtype: object\n"
     ]
    }
   ],
   "source": [
    "h=df3['Product_Category'].mode()\n",
    "print(\"the most famous product is  \"+h)"
   ]
  },
  {
   "cell_type": "code",
   "execution_count": 45,
   "id": "c4c1e14f-8c3f-4684-8e31-0ded279f5057",
   "metadata": {},
   "outputs": [
    {
     "name": "stdout",
     "output_type": "stream",
     "text": [
      "0    the most famous product name  is  Wrap Dress\n",
      "Name: Product_Name, dtype: object\n"
     ]
    }
   ],
   "source": [
    "h=df3['Product_Name'].mode()\n",
    "print(\"the most famous product name  is  \"+h)"
   ]
  },
  {
   "cell_type": "code",
   "execution_count": 46,
   "id": "a42f3961-9e2e-4f06-ab49-b2b487ccac50",
   "metadata": {},
   "outputs": [],
   "source": [
    "#graphs\n"
   ]
  },
  {
   "cell_type": "code",
   "execution_count": 47,
   "id": "4e77b988-d1c5-4ba8-9cca-c1fae3a0fc24",
   "metadata": {},
   "outputs": [
    {
     "data": {
      "text/html": [
       "<div>\n",
       "<style scoped>\n",
       "    .dataframe tbody tr th:only-of-type {\n",
       "        vertical-align: middle;\n",
       "    }\n",
       "\n",
       "    .dataframe tbody tr th {\n",
       "        vertical-align: top;\n",
       "    }\n",
       "\n",
       "    .dataframe thead th {\n",
       "        text-align: right;\n",
       "    }\n",
       "</style>\n",
       "<table border=\"1\" class=\"dataframe\">\n",
       "  <thead>\n",
       "    <tr style=\"text-align: right;\">\n",
       "      <th></th>\n",
       "      <th>Order_ID</th>\n",
       "      <th>Product_Category</th>\n",
       "      <th>Product_Name</th>\n",
       "      <th>Units_Sold</th>\n",
       "      <th>Unit_Price</th>\n",
       "      <th>Discount_%</th>\n",
       "      <th>Sales_Amount</th>\n",
       "      <th>City</th>\n",
       "      <th>Segment</th>\n",
       "      <th>Date_Time</th>\n",
       "      <th>actual_Price</th>\n",
       "      <th>Selling_Price</th>\n",
       "    </tr>\n",
       "  </thead>\n",
       "  <tbody>\n",
       "    <tr>\n",
       "      <th>1</th>\n",
       "      <td>1001</td>\n",
       "      <td>Jeans</td>\n",
       "      <td>Slim Fit Jeans</td>\n",
       "      <td>1</td>\n",
       "      <td>2685.985</td>\n",
       "      <td>0.65</td>\n",
       "      <td>0.0</td>\n",
       "      <td>Ahmedabad</td>\n",
       "      <td>unknown</td>\n",
       "      <td>2025-07-15</td>\n",
       "      <td>2685.985</td>\n",
       "      <td>940.09475</td>\n",
       "    </tr>\n",
       "    <tr>\n",
       "      <th>3</th>\n",
       "      <td>1003</td>\n",
       "      <td>Shoes</td>\n",
       "      <td>Loafers</td>\n",
       "      <td>2</td>\n",
       "      <td>2962.270</td>\n",
       "      <td>0.65</td>\n",
       "      <td>0.0</td>\n",
       "      <td>bengaluru</td>\n",
       "      <td>B2B</td>\n",
       "      <td>2025-06-18</td>\n",
       "      <td>5924.540</td>\n",
       "      <td>2073.58900</td>\n",
       "    </tr>\n",
       "    <tr>\n",
       "      <th>5</th>\n",
       "      <td>1005</td>\n",
       "      <td>T-Shirts</td>\n",
       "      <td>Crop Top</td>\n",
       "      <td>2</td>\n",
       "      <td>2685.985</td>\n",
       "      <td>0.65</td>\n",
       "      <td>0.0</td>\n",
       "      <td>Mumbai</td>\n",
       "      <td>B2B</td>\n",
       "      <td>2023-12-05</td>\n",
       "      <td>5371.970</td>\n",
       "      <td>1880.18950</td>\n",
       "    </tr>\n",
       "    <tr>\n",
       "      <th>7</th>\n",
       "      <td>1007</td>\n",
       "      <td>Dresses</td>\n",
       "      <td>Casual Midi</td>\n",
       "      <td>2</td>\n",
       "      <td>3669.560</td>\n",
       "      <td>0.65</td>\n",
       "      <td>0.0</td>\n",
       "      <td>bengaluru</td>\n",
       "      <td>B2C</td>\n",
       "      <td>2024-12-21</td>\n",
       "      <td>7339.120</td>\n",
       "      <td>2568.69200</td>\n",
       "    </tr>\n",
       "    <tr>\n",
       "      <th>8</th>\n",
       "      <td>1008</td>\n",
       "      <td>Accessories</td>\n",
       "      <td>Sunglasses</td>\n",
       "      <td>2</td>\n",
       "      <td>2685.985</td>\n",
       "      <td>0.65</td>\n",
       "      <td>0.0</td>\n",
       "      <td>Ahmedabad</td>\n",
       "      <td>B2C</td>\n",
       "      <td>2024-12-21</td>\n",
       "      <td>5371.970</td>\n",
       "      <td>1880.18950</td>\n",
       "    </tr>\n",
       "  </tbody>\n",
       "</table>\n",
       "</div>"
      ],
      "text/plain": [
       "   Order_ID Product_Category    Product_Name  Units_Sold  Unit_Price  \\\n",
       "1      1001            Jeans  Slim Fit Jeans           1    2685.985   \n",
       "3      1003            Shoes         Loafers           2    2962.270   \n",
       "5      1005         T-Shirts        Crop Top           2    2685.985   \n",
       "7      1007          Dresses     Casual Midi           2    3669.560   \n",
       "8      1008      Accessories      Sunglasses           2    2685.985   \n",
       "\n",
       "   Discount_%  Sales_Amount       City  Segment  Date_Time  actual_Price  \\\n",
       "1        0.65           0.0  Ahmedabad  unknown 2025-07-15      2685.985   \n",
       "3        0.65           0.0  bengaluru      B2B 2025-06-18      5924.540   \n",
       "5        0.65           0.0     Mumbai      B2B 2023-12-05      5371.970   \n",
       "7        0.65           0.0  bengaluru      B2C 2024-12-21      7339.120   \n",
       "8        0.65           0.0  Ahmedabad      B2C 2024-12-21      5371.970   \n",
       "\n",
       "   Selling_Price  \n",
       "1      940.09475  \n",
       "3     2073.58900  \n",
       "5     1880.18950  \n",
       "7     2568.69200  \n",
       "8     1880.18950  "
      ]
     },
     "execution_count": 47,
     "metadata": {},
     "output_type": "execute_result"
    }
   ],
   "source": [
    "df3.head(5)"
   ]
  },
  {
   "cell_type": "code",
   "execution_count": 48,
   "id": "893fc542-a526-4d69-99f6-deefee01105b",
   "metadata": {},
   "outputs": [
    {
     "data": {
      "text/plain": [
       "'\\nselling prics and date\\ntop 10 productct actogery\\ntop 10 product_name\\nunit sold year wise\\ntop city wrt price\\ntop order id\\n'"
      ]
     },
     "execution_count": 48,
     "metadata": {},
     "output_type": "execute_result"
    }
   ],
   "source": [
    "'''\n",
    "selling prics and date\n",
    "top 10 productct actogery\n",
    "top 10 product_name\n",
    "unit sold year wise\n",
    "top city wrt price\n",
    "top order id\n",
    "'''"
   ]
  },
  {
   "cell_type": "code",
   "execution_count": 49,
   "id": "d294bcfe-6edd-4e78-a32a-2921912425be",
   "metadata": {},
   "outputs": [],
   "source": [
    "df3['Date_Time']=df3['Date_Time'].dt.year"
   ]
  },
  {
   "cell_type": "code",
   "execution_count": 50,
   "id": "5f576cd1-7000-4dbc-bbea-293d0d4d1f8e",
   "metadata": {},
   "outputs": [
    {
     "data": {
      "image/png": "[encoded data removed]",
      "text/plain": [
       "<Figure size 700x200 with 1 Axes>"
      ]
     },
     "metadata": {},
     "output_type": "display_data"
    }
   ],
   "source": [
    "plt.figure(figsize=(7,2))\n",
    "sns.lineplot(data=df3,x='Date_Time',y=\"Selling_Price\",color='darkblue', linestyle='-', linewidth=2, marker='o', errorbar=None) \n",
    "\n",
    "plt.title(\"Selling Price vs Date\",fontsize=14)\n",
    "plt.xlabel(\"date\",fontsize=12)\n",
    "plt.ylabel(\"selling_price\",fontsize=12)\n",
    "plt.show()"
   ]
  },
  {
   "cell_type": "code",
   "execution_count": 51,
   "id": "c5ab02ad-2523-4304-ad24-cebe1dc7e18b",
   "metadata": {},
   "outputs": [
    {
     "data": {
      "image/png": "[encoded data removed]",
      "text/plain": [
       "<Figure size 700x200 with 1 Axes>"
      ]
     },
     "metadata": {},
     "output_type": "display_data"
    }
   ],
   "source": [
    "plt.figure(figsize=(7,2))\n",
    "g=df3.groupby(\"Product_Category\")[\"Selling_Price\"].mean().sort_values(ascending =False).head(10)\n",
    "g_df=g.reset_index()\n",
    "sns.barplot(data=g_df,x=\"Product_Category\",y=\"Selling_Price\")\n",
    "plt.xlabel(\"produxt name\",fontsize=12)\n",
    "plt.ylabel(\"selling price\",fontsize=12)\n",
    "plt.title(\"top best product category\",fontsize=14)\n",
    "plt.show()"
   ]
  },
  {
   "cell_type": "code",
   "execution_count": 52,
   "id": "20f13c61-deb8-4de4-b559-6edca1b8484d",
   "metadata": {},
   "outputs": [
    {
     "data": {
      "image/png": "[encoded data removed]",
      "text/plain": [
       "<Figure size 1500x500 with 1 Axes>"
      ]
     },
     "metadata": {},
     "output_type": "display_data"
    }
   ],
   "source": [
    "plt.figure(figsize=(15,5))\n",
    "g=df3.groupby(\"Product_Name\")[\"Selling_Price\"].mean().sort_values(ascending =False).head(10)\n",
    "g_df=g.reset_index()\n",
    "sns.barplot(data=g_df,x=\"Product_Name\",y=\"Selling_Price\")\n",
    "plt.xlabel(\"produxt name\",fontsize=12)\n",
    "plt.ylabel(\"selling price\",fontsize=12)\n",
    "plt.title(\"top 10 best Product_Name\",fontsize=14)\n",
    "plt.show()"
   ]
  },
  {
   "cell_type": "code",
   "execution_count": 53,
   "id": "fda93e9b-8722-4a2a-9ffe-89abe04775a9",
   "metadata": {},
   "outputs": [
    {
     "name": "stderr",
     "output_type": "stream",
     "text": [
      "C:\\Users\\adilm\\AppData\\Local\\Temp\\ipykernel_45392\\2539947879.py:3: FutureWarning: \n",
      "\n",
      "Passing `palette` without assigning `hue` is deprecated and will be removed in v0.14.0. Assign the `x` variable to `hue` and set `legend=False` for the same effect.\n",
      "\n",
      "  sns.barplot(data=yearly_units, x='Date_Time', y='Units_Sold',palette='viridis')\n"
     ]
    },
    {
     "data": {
      "image/png": "[encoded data removed]",
      "text/plain": [
       "<Figure size 700x400 with 1 Axes>"
      ]
     },
     "metadata": {},
     "output_type": "display_data"
    }
   ],
   "source": [
    "yearly_units = df3.groupby('Date_Time')['Units_Sold'].sum().reset_index()\n",
    "plt.figure(figsize=(7,4))\n",
    "sns.barplot(data=yearly_units, x='Date_Time', y='Units_Sold',palette='viridis')\n",
    "plt.title(\"unit sold year wise\",fontsize=14)\n",
    "plt.xlabel(\"year\",fontsize=12)\n",
    "plt.ylabel(\"units sold\",fontsize=12)\n",
    "plt.show()"
   ]
  },
  {
   "cell_type": "code",
   "execution_count": 54,
   "id": "1999368f-aae1-4809-8dbe-94127166eb45",
   "metadata": {},
   "outputs": [],
   "source": [
    "df3['City']=df3['City'].str.replace(\"Hyderababd\",\"Hyderabad\",regex=False)"
   ]
  },
  {
   "cell_type": "code",
   "execution_count": 55,
   "id": "54cd95cb-ea7e-4c30-96f8-9c9ae3e8c5a5",
   "metadata": {},
   "outputs": [
    {
     "data": {
      "image/png": "[encoded data removed]",
      "text/plain": [
       "<Figure size 1200x200 with 1 Axes>"
      ]
     },
     "metadata": {},
     "output_type": "display_data"
    }
   ],
   "source": [
    "plt.figure(figsize=(12,2))\n",
    "g=df3.groupby(\"City\")[\"Selling_Price\"].mean().sort_values(ascending =False).head(10)\n",
    "g_df=g.reset_index()\n",
    "sns.barplot(data=g_df,x=\"City\",y=\"Selling_Price\")\n",
    "plt.xlabel(\"City\",fontsize=12)\n",
    "plt.ylabel(\"selling price\",fontsize=12)\n",
    "plt.title(\"top best performing city\",fontsize=14)\n",
    "plt.show()\n"
   ]
  },
  {
   "cell_type": "code",
   "execution_count": 56,
   "id": "6bda055c-ec06-4478-905b-bce47789d382",
   "metadata": {},
   "outputs": [],
   "source": [
    "#now a model "
   ]
  },
  {
   "cell_type": "code",
   "execution_count": 57,
   "id": "b5793286-7baf-4428-a559-6f93b89a2ade",
   "metadata": {},
   "outputs": [
    {
     "data": {
      "text/html": [
       "<div>\n",
       "<style scoped>\n",
       "    .dataframe tbody tr th:only-of-type {\n",
       "        vertical-align: middle;\n",
       "    }\n",
       "\n",
       "    .dataframe tbody tr th {\n",
       "        vertical-align: top;\n",
       "    }\n",
       "\n",
       "    .dataframe thead th {\n",
       "        text-align: right;\n",
       "    }\n",
       "</style>\n",
       "<table border=\"1\" class=\"dataframe\">\n",
       "  <thead>\n",
       "    <tr style=\"text-align: right;\">\n",
       "      <th></th>\n",
       "      <th>Order_ID</th>\n",
       "      <th>Product_Category</th>\n",
       "      <th>Product_Name</th>\n",
       "      <th>Units_Sold</th>\n",
       "      <th>Unit_Price</th>\n",
       "      <th>Discount_%</th>\n",
       "      <th>Sales_Amount</th>\n",
       "      <th>City</th>\n",
       "      <th>Segment</th>\n",
       "      <th>Date_Time</th>\n",
       "      <th>actual_Price</th>\n",
       "      <th>Selling_Price</th>\n",
       "    </tr>\n",
       "  </thead>\n",
       "  <tbody>\n",
       "  </tbody>\n",
       "</table>\n",
       "</div>"
      ],
      "text/plain": [
       "Empty DataFrame\n",
       "Columns: [Order_ID, Product_Category, Product_Name, Units_Sold, Unit_Price, Discount_%, Sales_Amount, City, Segment, Date_Time, actual_Price, Selling_Price]\n",
       "Index: []"
      ]
     },
     "execution_count": 57,
     "metadata": {},
     "output_type": "execute_result"
    }
   ],
   "source": [
    "df3.head(0)"
   ]
  },
  {
   "cell_type": "code",
   "execution_count": 58,
   "id": "30c01c2b-0ad0-4463-aef6-e197eda676f3",
   "metadata": {},
   "outputs": [],
   "source": [
    "df4=pd.get_dummies(df3,columns=['Product_Category','City'])"
   ]
  },
  {
   "cell_type": "code",
   "execution_count": 59,
   "id": "c1cd14f7-baf0-45ae-93a4-62cdfc01097f",
   "metadata": {},
   "outputs": [
    {
     "data": {
      "text/html": [
       "<div>\n",
       "<style scoped>\n",
       "    .dataframe tbody tr th:only-of-type {\n",
       "        vertical-align: middle;\n",
       "    }\n",
       "\n",
       "    .dataframe tbody tr th {\n",
       "        vertical-align: top;\n",
       "    }\n",
       "\n",
       "    .dataframe thead th {\n",
       "        text-align: right;\n",
       "    }\n",
       "</style>\n",
       "<table border=\"1\" class=\"dataframe\">\n",
       "  <thead>\n",
       "    <tr style=\"text-align: right;\">\n",
       "      <th></th>\n",
       "      <th>Order_ID</th>\n",
       "      <th>Product_Name</th>\n",
       "      <th>Units_Sold</th>\n",
       "      <th>Unit_Price</th>\n",
       "      <th>Discount_%</th>\n",
       "      <th>Sales_Amount</th>\n",
       "      <th>Segment</th>\n",
       "      <th>Date_Time</th>\n",
       "      <th>actual_Price</th>\n",
       "      <th>Selling_Price</th>\n",
       "      <th>...</th>\n",
       "      <th>Product_Category_Jeans</th>\n",
       "      <th>Product_Category_Shoes</th>\n",
       "      <th>Product_Category_T-Shirts</th>\n",
       "      <th>City_Ahmedabad</th>\n",
       "      <th>City_Delhi</th>\n",
       "      <th>City_Hyderabad</th>\n",
       "      <th>City_Hyderabaderabad</th>\n",
       "      <th>City_Mumbai</th>\n",
       "      <th>City_Pune</th>\n",
       "      <th>City_bengaluru</th>\n",
       "    </tr>\n",
       "  </thead>\n",
       "  <tbody>\n",
       "    <tr>\n",
       "      <th>1</th>\n",
       "      <td>1001</td>\n",
       "      <td>Slim Fit Jeans</td>\n",
       "      <td>1</td>\n",
       "      <td>2685.985</td>\n",
       "      <td>0.65</td>\n",
       "      <td>0.0</td>\n",
       "      <td>unknown</td>\n",
       "      <td>2025</td>\n",
       "      <td>2685.985</td>\n",
       "      <td>940.09475</td>\n",
       "      <td>...</td>\n",
       "      <td>True</td>\n",
       "      <td>False</td>\n",
       "      <td>False</td>\n",
       "      <td>True</td>\n",
       "      <td>False</td>\n",
       "      <td>False</td>\n",
       "      <td>False</td>\n",
       "      <td>False</td>\n",
       "      <td>False</td>\n",
       "      <td>False</td>\n",
       "    </tr>\n",
       "  </tbody>\n",
       "</table>\n",
       "<p>1 rows × 23 columns</p>\n",
       "</div>"
      ],
      "text/plain": [
       "   Order_ID    Product_Name  Units_Sold  Unit_Price  Discount_%  Sales_Amount  \\\n",
       "1      1001  Slim Fit Jeans           1    2685.985        0.65           0.0   \n",
       "\n",
       "   Segment  Date_Time  actual_Price  Selling_Price  ...  \\\n",
       "1  unknown       2025      2685.985      940.09475  ...   \n",
       "\n",
       "   Product_Category_Jeans  Product_Category_Shoes  Product_Category_T-Shirts  \\\n",
       "1                    True                   False                      False   \n",
       "\n",
       "   City_Ahmedabad  City_Delhi  City_Hyderabad  City_Hyderabaderabad  \\\n",
       "1            True       False           False                 False   \n",
       "\n",
       "   City_Mumbai  City_Pune  City_bengaluru  \n",
       "1        False      False           False  \n",
       "\n",
       "[1 rows x 23 columns]"
      ]
     },
     "execution_count": 59,
     "metadata": {},
     "output_type": "execute_result"
    }
   ],
   "source": [
    "df4.head(1)"
   ]
  },
  {
   "cell_type": "code",
   "execution_count": 60,
   "id": "1214d426-cd80-4b80-8e20-3d1f23108dfc",
   "metadata": {},
   "outputs": [],
   "source": [
    "y=df4['Selling_Price']\n",
    "x=df4.drop(columns=['Product_Name','Selling_Price','Sales_Amount','Segment','Date_Time'],axis=1)#we want to drop 'Sellin_Price','Sales_Amount','Segement','Date_Time'"
   ]
  },
  {
   "cell_type": "code",
   "execution_count": 61,
   "id": "14dcc5fc-2e81-4374-9fb8-fa7c5781516f",
   "metadata": {},
   "outputs": [],
   "source": [
    "x_train,x_test,y_train,y_test=train_test_split(x,y,test_size=0.2,random_state=42)"
   ]
  },
  {
   "cell_type": "code",
   "execution_count": 62,
   "id": "61e8beee-dc85-41d5-9a99-e7337145d6c0",
   "metadata": {},
   "outputs": [],
   "source": [
    "model=RandomForestRegressor(n_estimators=100,random_state=42)"
   ]
  },
  {
   "cell_type": "code",
   "execution_count": 63,
   "id": "67c41b9d-f3d9-4ea7-a405-e1b8aca04b4b",
   "metadata": {},
   "outputs": [
    {
     "data": {
      "text/html": [
       "<style>#sk-container-id-1 {\n",
       "  /* Definition of color scheme common for light and dark mode */\n",
       "  --sklearn-color-text: #000;\n",
       "  --sklearn-color-text-muted: #666;\n",
       "  --sklearn-color-line: gray;\n",
       "  /* Definition of color scheme for unfitted estimators */\n",
       "  --sklearn-color-unfitted-level-0: #fff5e6;\n",
       "  --sklearn-color-unfitted-level-1: #f6e4d2;\n",
       "  --sklearn-color-unfitted-level-2: #ffe0b3;\n",
       "  --sklearn-color-unfitted-level-3: chocolate;\n",
       "  /* Definition of color scheme for fitted estimators */\n",
       "  --sklearn-color-fitted-level-0: #f0f8ff;\n",
       "  --sklearn-color-fitted-level-1: #d4ebff;\n",
       "  --sklearn-color-fitted-level-2: #b3dbfd;\n",
       "  --sklearn-color-fitted-level-3: cornflowerblue;\n",
       "\n",
       "  /* Specific color for light theme */\n",
       "  --sklearn-color-text-on-default-background: var(--sg-text-color, var(--theme-code-foreground, var(--jp-content-font-color1, black)));\n",
       "  --sklearn-color-background: var(--sg-background-color, var(--theme-background, var(--jp-layout-color0, white)));\n",
       "  --sklearn-color-border-box: var(--sg-text-color, var(--theme-code-foreground, var(--jp-content-font-color1, black)));\n",
       "  --sklearn-color-icon: #696969;\n",
       "\n",
       "  @media (prefers-color-scheme: dark) {\n",
       "    /* Redefinition of color scheme for dark theme */\n",
       "    --sklearn-color-text-on-default-background: var(--sg-text-color, var(--theme-code-foreground, var(--jp-content-font-color1, white)));\n",
       "    --sklearn-color-background: var(--sg-background-color, var(--theme-background, var(--jp-layout-color0, #111)));\n",
       "    --sklearn-color-border-box: var(--sg-text-color, var(--theme-code-foreground, var(--jp-content-font-color1, white)));\n",
       "    --sklearn-color-icon: #878787;\n",
       "  }\n",
       "}\n",
       "\n",
       "#sk-container-id-1 {\n",
       "  color: var(--sklearn-color-text);\n",
       "}\n",
       "\n",
       "#sk-container-id-1 pre {\n",
       "  padding: 0;\n",
       "}\n",
       "\n",
       "#sk-container-id-1 input.sk-hidden--visually {\n",
       "  border: 0;\n",
       "  clip: rect(1px 1px 1px 1px);\n",
       "  clip: rect(1px, 1px, 1px, 1px);\n",
       "  height: 1px;\n",
       "  margin: -1px;\n",
       "  overflow: hidden;\n",
       "  padding: 0;\n",
       "  position: absolute;\n",
       "  width: 1px;\n",
       "}\n",
       "\n",
       "#sk-container-id-1 div.sk-dashed-wrapped {\n",
       "  border: 1px dashed var(--sklearn-color-line);\n",
       "  margin: 0 0.4em 0.5em 0.4em;\n",
       "  box-sizing: border-box;\n",
       "  padding-bottom: 0.4em;\n",
       "  background-color: var(--sklearn-color-background);\n",
       "}\n",
       "\n",
       "#sk-container-id-1 div.sk-container {\n",
       "  /* jupyter's `normalize.less` sets `[hidden] { display: none; }`\n",
       "     but bootstrap.min.css set `[hidden] { display: none !important; }`\n",
       "     so we also need the `!important` here to be able to override the\n",
       "     default hidden behavior on the sphinx rendered scikit-learn.org.\n",
       "     See: https://github.com/scikit-learn/scikit-learn/issues/21755 */\n",
       "  display: inline-block !important;\n",
       "  position: relative;\n",
       "}\n",
       "\n",
       "#sk-container-id-1 div.sk-text-repr-fallback {\n",
       "  display: none;\n",
       "}\n",
       "\n",
       "div.sk-parallel-item,\n",
       "div.sk-serial,\n",
       "div.sk-item {\n",
       "  /* draw centered vertical line to link estimators */\n",
       "  background-image: linear-gradient(var(--sklearn-color-text-on-default-background), var(--sklearn-color-text-on-default-background));\n",
       "  background-size: 2px 100%;\n",
       "  background-repeat: no-repeat;\n",
       "  background-position: center center;\n",
       "}\n",
       "\n",
       "/* Parallel-specific style estimator block */\n",
       "\n",
       "#sk-container-id-1 div.sk-parallel-item::after {\n",
       "  content: \"\";\n",
       "  width: 100%;\n",
       "  border-bottom: 2px solid var(--sklearn-color-text-on-default-background);\n",
       "  flex-grow: 1;\n",
       "}\n",
       "\n",
       "#sk-container-id-1 div.sk-parallel {\n",
       "  display: flex;\n",
       "  align-items: stretch;\n",
       "  justify-content: center;\n",
       "  background-color: var(--sklearn-color-background);\n",
       "  position: relative;\n",
       "}\n",
       "\n",
       "#sk-container-id-1 div.sk-parallel-item {\n",
       "  display: flex;\n",
       "  flex-direction: column;\n",
       "}\n",
       "\n",
       "#sk-container-id-1 div.sk-parallel-item:first-child::after {\n",
       "  align-self: flex-end;\n",
       "  width: 50%;\n",
       "}\n",
       "\n",
       "#sk-container-id-1 div.sk-parallel-item:last-child::after {\n",
       "  align-self: flex-start;\n",
       "  width: 50%;\n",
       "}\n",
       "\n",
       "#sk-container-id-1 div.sk-parallel-item:only-child::after {\n",
       "  width: 0;\n",
       "}\n",
       "\n",
       "/* Serial-specific style estimator block */\n",
       "\n",
       "#sk-container-id-1 div.sk-serial {\n",
       "  display: flex;\n",
       "  flex-direction: column;\n",
       "  align-items: center;\n",
       "  background-color: var(--sklearn-color-background);\n",
       "  padding-right: 1em;\n",
       "  padding-left: 1em;\n",
       "}\n",
       "\n",
       "\n",
       "/* Toggleable style: style used for estimator/Pipeline/ColumnTransformer box that is\n",
       "clickable and can be expanded/collapsed.\n",
       "- Pipeline and ColumnTransformer use this feature and define the default style\n",
       "- Estimators will overwrite some part of the style using the `sk-estimator` class\n",
       "*/\n",
       "\n",
       "/* Pipeline and ColumnTransformer style (default) */\n",
       "\n",
       "#sk-container-id-1 div.sk-toggleable {\n",
       "  /* Default theme specific background. It is overwritten whether we have a\n",
       "  specific estimator or a Pipeline/ColumnTransformer */\n",
       "  background-color: var(--sklearn-color-background);\n",
       "}\n",
       "\n",
       "/* Toggleable label */\n",
       "#sk-container-id-1 label.sk-toggleable__label {\n",
       "  cursor: pointer;\n",
       "  display: flex;\n",
       "  width: 100%;\n",
       "  margin-bottom: 0;\n",
       "  padding: 0.5em;\n",
       "  box-sizing: border-box;\n",
       "  text-align: center;\n",
       "  align-items: start;\n",
       "  justify-content: space-between;\n",
       "  gap: 0.5em;\n",
       "}\n",
       "\n",
       "#sk-container-id-1 label.sk-toggleable__label .caption {\n",
       "  font-size: 0.6rem;\n",
       "  font-weight: lighter;\n",
       "  color: var(--sklearn-color-text-muted);\n",
       "}\n",
       "\n",
       "#sk-container-id-1 label.sk-toggleable__label-arrow:before {\n",
       "  /* Arrow on the left of the label */\n",
       "  content: \"▸\";\n",
       "  float: left;\n",
       "  margin-right: 0.25em;\n",
       "  color: var(--sklearn-color-icon);\n",
       "}\n",
       "\n",
       "#sk-container-id-1 label.sk-toggleable__label-arrow:hover:before {\n",
       "  color: var(--sklearn-color-text);\n",
       "}\n",
       "\n",
       "/* Toggleable content - dropdown */\n",
       "\n",
       "#sk-container-id-1 div.sk-toggleable__content {\n",
       "  max-height: 0;\n",
       "  max-width: 0;\n",
       "  overflow: hidden;\n",
       "  text-align: left;\n",
       "  /* unfitted */\n",
       "  background-color: var(--sklearn-color-unfitted-level-0);\n",
       "}\n",
       "\n",
       "#sk-container-id-1 div.sk-toggleable__content.fitted {\n",
       "  /* fitted */\n",
       "  background-color: var(--sklearn-color-fitted-level-0);\n",
       "}\n",
       "\n",
       "#sk-container-id-1 div.sk-toggleable__content pre {\n",
       "  margin: 0.2em;\n",
       "  border-radius: 0.25em;\n",
       "  color: var(--sklearn-color-text);\n",
       "  /* unfitted */\n",
       "  background-color: var(--sklearn-color-unfitted-level-0);\n",
       "}\n",
       "\n",
       "#sk-container-id-1 div.sk-toggleable__content.fitted pre {\n",
       "  /* unfitted */\n",
       "  background-color: var(--sklearn-color-fitted-level-0);\n",
       "}\n",
       "\n",
       "#sk-container-id-1 input.sk-toggleable__control:checked~div.sk-toggleable__content {\n",
       "  /* Expand drop-down */\n",
       "  max-height: 200px;\n",
       "  max-width: 100%;\n",
       "  overflow: auto;\n",
       "}\n",
       "\n",
       "#sk-container-id-1 input.sk-toggleable__control:checked~label.sk-toggleable__label-arrow:before {\n",
       "  content: \"▾\";\n",
       "}\n",
       "\n",
       "/* Pipeline/ColumnTransformer-specific style */\n",
       "\n",
       "#sk-container-id-1 div.sk-label input.sk-toggleable__control:checked~label.sk-toggleable__label {\n",
       "  color: var(--sklearn-color-text);\n",
       "  background-color: var(--sklearn-color-unfitted-level-2);\n",
       "}\n",
       "\n",
       "#sk-container-id-1 div.sk-label.fitted input.sk-toggleable__control:checked~label.sk-toggleable__label {\n",
       "  background-color: var(--sklearn-color-fitted-level-2);\n",
       "}\n",
       "\n",
       "/* Estimator-specific style */\n",
       "\n",
       "/* Colorize estimator box */\n",
       "#sk-container-id-1 div.sk-estimator input.sk-toggleable__control:checked~label.sk-toggleable__label {\n",
       "  /* unfitted */\n",
       "  background-color: var(--sklearn-color-unfitted-level-2);\n",
       "}\n",
       "\n",
       "#sk-container-id-1 div.sk-estimator.fitted input.sk-toggleable__control:checked~label.sk-toggleable__label {\n",
       "  /* fitted */\n",
       "  background-color: var(--sklearn-color-fitted-level-2);\n",
       "}\n",
       "\n",
       "#sk-container-id-1 div.sk-label label.sk-toggleable__label,\n",
       "#sk-container-id-1 div.sk-label label {\n",
       "  /* The background is the default theme color */\n",
       "  color: var(--sklearn-color-text-on-default-background);\n",
       "}\n",
       "\n",
       "/* On hover, darken the color of the background */\n",
       "#sk-container-id-1 div.sk-label:hover label.sk-toggleable__label {\n",
       "  color: var(--sklearn-color-text);\n",
       "  background-color: var(--sklearn-color-unfitted-level-2);\n",
       "}\n",
       "\n",
       "/* Label box, darken color on hover, fitted */\n",
       "#sk-container-id-1 div.sk-label.fitted:hover label.sk-toggleable__label.fitted {\n",
       "  color: var(--sklearn-color-text);\n",
       "  background-color: var(--sklearn-color-fitted-level-2);\n",
       "}\n",
       "\n",
       "/* Estimator label */\n",
       "\n",
       "#sk-container-id-1 div.sk-label label {\n",
       "  font-family: monospace;\n",
       "  font-weight: bold;\n",
       "  display: inline-block;\n",
       "  line-height: 1.2em;\n",
       "}\n",
       "\n",
       "#sk-container-id-1 div.sk-label-container {\n",
       "  text-align: center;\n",
       "}\n",
       "\n",
       "/* Estimator-specific */\n",
       "#sk-container-id-1 div.sk-estimator {\n",
       "  font-family: monospace;\n",
       "  border: 1px dotted var(--sklearn-color-border-box);\n",
       "  border-radius: 0.25em;\n",
       "  box-sizing: border-box;\n",
       "  margin-bottom: 0.5em;\n",
       "  /* unfitted */\n",
       "  background-color: var(--sklearn-color-unfitted-level-0);\n",
       "}\n",
       "\n",
       "#sk-container-id-1 div.sk-estimator.fitted {\n",
       "  /* fitted */\n",
       "  background-color: var(--sklearn-color-fitted-level-0);\n",
       "}\n",
       "\n",
       "/* on hover */\n",
       "#sk-container-id-1 div.sk-estimator:hover {\n",
       "  /* unfitted */\n",
       "  background-color: var(--sklearn-color-unfitted-level-2);\n",
       "}\n",
       "\n",
       "#sk-container-id-1 div.sk-estimator.fitted:hover {\n",
       "  /* fitted */\n",
       "  background-color: var(--sklearn-color-fitted-level-2);\n",
       "}\n",
       "\n",
       "/* Specification for estimator info (e.g. \"i\" and \"?\") */\n",
       "\n",
       "/* Common style for \"i\" and \"?\" */\n",
       "\n",
       ".sk-estimator-doc-link,\n",
       "a:link.sk-estimator-doc-link,\n",
       "a:visited.sk-estimator-doc-link {\n",
       "  float: right;\n",
       "  font-size: smaller;\n",
       "  line-height: 1em;\n",
       "  font-family: monospace;\n",
       "  background-color: var(--sklearn-color-background);\n",
       "  border-radius: 1em;\n",
       "  height: 1em;\n",
       "  width: 1em;\n",
       "  text-decoration: none !important;\n",
       "  margin-left: 0.5em;\n",
       "  text-align: center;\n",
       "  /* unfitted */\n",
       "  border: var(--sklearn-color-unfitted-level-1) 1pt solid;\n",
       "  color: var(--sklearn-color-unfitted-level-1);\n",
       "}\n",
       "\n",
       ".sk-estimator-doc-link.fitted,\n",
       "a:link.sk-estimator-doc-link.fitted,\n",
       "a:visited.sk-estimator-doc-link.fitted {\n",
       "  /* fitted */\n",
       "  border: var(--sklearn-color-fitted-level-1) 1pt solid;\n",
       "  color: var(--sklearn-color-fitted-level-1);\n",
       "}\n",
       "\n",
       "/* On hover */\n",
       "div.sk-estimator:hover .sk-estimator-doc-link:hover,\n",
       ".sk-estimator-doc-link:hover,\n",
       "div.sk-label-container:hover .sk-estimator-doc-link:hover,\n",
       ".sk-estimator-doc-link:hover {\n",
       "  /* unfitted */\n",
       "  background-color: var(--sklearn-color-unfitted-level-3);\n",
       "  color: var(--sklearn-color-background);\n",
       "  text-decoration: none;\n",
       "}\n",
       "\n",
       "div.sk-estimator.fitted:hover .sk-estimator-doc-link.fitted:hover,\n",
       ".sk-estimator-doc-link.fitted:hover,\n",
       "div.sk-label-container:hover .sk-estimator-doc-link.fitted:hover,\n",
       ".sk-estimator-doc-link.fitted:hover {\n",
       "  /* fitted */\n",
       "  background-color: var(--sklearn-color-fitted-level-3);\n",
       "  color: var(--sklearn-color-background);\n",
       "  text-decoration: none;\n",
       "}\n",
       "\n",
       "/* Span, style for the box shown on hovering the info icon */\n",
       ".sk-estimator-doc-link span {\n",
       "  display: none;\n",
       "  z-index: 9999;\n",
       "  position: relative;\n",
       "  font-weight: normal;\n",
       "  right: .2ex;\n",
       "  padding: .5ex;\n",
       "  margin: .5ex;\n",
       "  width: min-content;\n",
       "  min-width: 20ex;\n",
       "  max-width: 50ex;\n",
       "  color: var(--sklearn-color-text);\n",
       "  box-shadow: 2pt 2pt 4pt #999;\n",
       "  /* unfitted */\n",
       "  background: var(--sklearn-color-unfitted-level-0);\n",
       "  border: .5pt solid var(--sklearn-color-unfitted-level-3);\n",
       "}\n",
       "\n",
       ".sk-estimator-doc-link.fitted span {\n",
       "  /* fitted */\n",
       "  background: var(--sklearn-color-fitted-level-0);\n",
       "  border: var(--sklearn-color-fitted-level-3);\n",
       "}\n",
       "\n",
       ".sk-estimator-doc-link:hover span {\n",
       "  display: block;\n",
       "}\n",
       "\n",
       "/* \"?\"-specific style due to the `<a>` HTML tag */\n",
       "\n",
       "#sk-container-id-1 a.estimator_doc_link {\n",
       "  float: right;\n",
       "  font-size: 1rem;\n",
       "  line-height: 1em;\n",
       "  font-family: monospace;\n",
       "  background-color: var(--sklearn-color-background);\n",
       "  border-radius: 1rem;\n",
       "  height: 1rem;\n",
       "  width: 1rem;\n",
       "  text-decoration: none;\n",
       "  /* unfitted */\n",
       "  color: var(--sklearn-color-unfitted-level-1);\n",
       "  border: var(--sklearn-color-unfitted-level-1) 1pt solid;\n",
       "}\n",
       "\n",
       "#sk-container-id-1 a.estimator_doc_link.fitted {\n",
       "  /* fitted */\n",
       "  border: var(--sklearn-color-fitted-level-1) 1pt solid;\n",
       "  color: var(--sklearn-color-fitted-level-1);\n",
       "}\n",
       "\n",
       "/* On hover */\n",
       "#sk-container-id-1 a.estimator_doc_link:hover {\n",
       "  /* unfitted */\n",
       "  background-color: var(--sklearn-color-unfitted-level-3);\n",
       "  color: var(--sklearn-color-background);\n",
       "  text-decoration: none;\n",
       "}\n",
       "\n",
       "#sk-container-id-1 a.estimator_doc_link.fitted:hover {\n",
       "  /* fitted */\n",
       "  background-color: var(--sklearn-color-fitted-level-3);\n",
       "}\n",
       "</style><div id=\"sk-container-id-1\" class=\"sk-top-container\"><div class=\"sk-text-repr-fallback\"><pre>RandomForestRegressor(random_state=42)</pre><b>In a Jupyter environment, please rerun this cell to show the HTML representation or trust the notebook. <br />On GitHub, the HTML representation is unable to render, please try loading this page with nbviewer.org.</b></div><div class=\"sk-container\" hidden><div class=\"sk-item\"><div class=\"sk-estimator fitted sk-toggleable\"><input class=\"sk-toggleable__control sk-hidden--visually\" id=\"sk-estimator-id-1\" type=\"checkbox\" checked><label for=\"sk-estimator-id-1\" class=\"sk-toggleable__label fitted sk-toggleable__label-arrow\"><div><div>RandomForestRegressor</div></div><div><a class=\"sk-estimator-doc-link fitted\" rel=\"noreferrer\" target=\"_blank\" href=\"https://scikit-learn.org/1.6/modules/generated/sklearn.ensemble.RandomForestRegressor.html\">?<span>Documentation for RandomForestRegressor</span></a><span class=\"sk-estimator-doc-link fitted\">i<span>Fitted</span></span></div></label><div class=\"sk-toggleable__content fitted\"><pre>RandomForestRegressor(random_state=42)</pre></div> </div></div></div></div>"
      ],
      "text/plain": [
       "RandomForestRegressor(random_state=42)"
      ]
     },
     "execution_count": 63,
     "metadata": {},
     "output_type": "execute_result"
    }
   ],
   "source": [
    "model.fit(x_train,y_train)"
   ]
  },
  {
   "cell_type": "code",
   "execution_count": 64,
   "id": "4d28f7e4-125b-4805-a64e-d84f216cd163",
   "metadata": {},
   "outputs": [],
   "source": [
    "prediction=model.predict(x_test)"
   ]
  },
  {
   "cell_type": "code",
   "execution_count": 65,
   "id": "151d8e32-fb91-4d46-b3fe-2fdef4d47c3e",
   "metadata": {},
   "outputs": [
    {
     "name": "stdout",
     "output_type": "stream",
     "text": [
      "rmse is is 500.5759610225247\n",
      "mse is 250576.2927536242\n",
      "the r 2 valuje is 0.9541590331496564\n"
     ]
    }
   ],
   "source": [
    "rmse=np.sqrt(mean_squared_error(y_test,prediction))\n",
    "print(f\"rmse is is {rmse}\")\n",
    "mse=mean_squared_error(y_test,prediction)\n",
    "print(f\"mse is {mse}\")\n",
    "r2=r2_score(y_test,prediction)\n",
    "print(f\"the r 2 valuje is {r2}\")"
   ]
  },
  {
   "cell_type": "code",
   "execution_count": 72,
   "id": "d98894df-bcf6-4cff-a894-f35e74b0204e",
   "metadata": {},
   "outputs": [
    {
     "name": "stdin",
     "output_type": "stream",
     "text": [
      "Enter Units Sold:  5\n",
      "Enter Unit Price:  567\n",
      "Enter Discount %:  0.3\n",
      "Is Product Category Accessories? (1/0):  1\n",
      "Is Product Category Dresses? (1/0):  0\n",
      "Is Product Category Jackets? (1/0):  0\n",
      "Is Product Category Jeans? (1/0):  0\n",
      "Is Product Category Shoes? (1/0):  0\n",
      "Is Product Category T-Shirts? (1/0):  0\n",
      "City Ahmedabad? (1/0):  1\n",
      "City Delhi? (1/0):  0\n",
      "City Hyderabad? (1/0):  0\n",
      "City Mumbai? (1/0):  0\n",
      "City Pune? (1/0):  0\n",
      "City Bengaluru? (1/0):  0\n"
     ]
    },
    {
     "name": "stdout",
     "output_type": "stream",
     "text": [
      "\n",
      "Predicted Selling Price: 966.28\n"
     ]
    }
   ],
   "source": [
    "# ===== Predict Selling Price Dynamically =====\n",
    "\n",
    "import pandas as pd\n",
    "\n",
    "# Ask user for inputs\n",
    "units_sold = float(input(\"Enter Units Sold: \"))\n",
    "unit_price = float(input(\"Enter Unit Price: \"))\n",
    "discount = float(input(\"Enter Discount %: \"))\n",
    "\n",
    "# Category flags (1 or 0)\n",
    "cat_accessories = int(input(\"Is Product Category Accessories? (1/0): \"))\n",
    "cat_dresses = int(input(\"Is Product Category Dresses? (1/0): \"))\n",
    "cat_jackets = int(input(\"Is Product Category Jackets? (1/0): \"))\n",
    "cat_jeans = int(input(\"Is Product Category Jeans? (1/0): \"))\n",
    "cat_shoes = int(input(\"Is Product Category Shoes? (1/0): \"))\n",
    "cat_tshirts = int(input(\"Is Product Category T-Shirts? (1/0): \"))\n",
    "\n",
    "# City flags (1 or 0)\n",
    "city_ahmedabad = int(input(\"City Ahmedabad? (1/0): \"))\n",
    "city_delhi = int(input(\"City Delhi? (1/0): \"))\n",
    "city_hyderabad = int(input(\"City Hyderabad? (1/0): \"))\n",
    "city_mumbai = int(input(\"City Mumbai? (1/0): \"))\n",
    "city_pune = int(input(\"City Pune? (1/0): \"))\n",
    "city_bengaluru = int(input(\"City Bengaluru? (1/0): \"))\n",
    "\n",
    "# Create dataframe for prediction\n",
    "input_data = pd.DataFrame([{\n",
    "    'Units_Sold': units_sold,\n",
    "    'Unit_Price': unit_price,\n",
    "    'Discount_%': discount,\n",
    "    'Product_Category_Accessories': cat_accessories,\n",
    "    'Product_Category_Dresses': cat_dresses,\n",
    "    'Product_Category_Jackets': cat_jackets,\n",
    "    'Product_Category_Jeans': cat_jeans,\n",
    "    'Product_Category_Shoes': cat_shoes,\n",
    "    'Product_Category_T-Shirts': cat_tshirts,\n",
    "    'City_Ahmedabad': city_ahmedabad,\n",
    "    'City_Delhi': city_delhi,\n",
    "    'City_Hyderabad': city_hyderabad,\n",
    "    'City_Mumbai': city_mumbai,\n",
    "    'City_Pune': city_pune,\n",
    "    'City_bengaluru': city_bengaluru\n",
    "}])\n",
    "\n",
    "# Match training columns\n",
    "input_data = pd.get_dummies(input_data, drop_first=True)\n",
    "input_data = input_data.reindex(columns=x.columns, fill_value=0)\n",
    "\n",
    "predicted_price = model.predict(input_data)\n",
    "print(f\"\\nPredicted Selling Price: {predicted_price[0]:.2f}\")\n"
   ]
  },
  {
   "cell_type": "code",
   "execution_count": null,
   "id": "30a6fdd7-49fe-49ba-9841-6862588ba379",
   "metadata": {},
   "outputs": [],
   "source": [
    "df3.head(1)"
   ]
  },
  {
   "cell_type": "code",
   "execution_count": null,
   "id": "c04bd3b3-ba45-4d76-94ef-2a9d542ee2ab",
   "metadata": {},
   "outputs": [],
   "source": []
  },
  {
   "cell_type": "code",
   "execution_count": null,
   "id": "b882aa05-80a3-4162-8205-acf6fcd528e4",
   "metadata": {},
   "outputs": [],
   "source": []
  }
 ],
 "metadata": {
  "kernelspec": {
   "display_name": "Python 3 (ipykernel)",
   "language": "python",
   "name": "python3"
  },
  "language_info": {
   "codemirror_mode": {
    "name": "ipython",
    "version": 3
   },
   "file_extension": ".py",
   "mimetype": "text/x-python",
   "name": "python",
   "nbconvert_exporter": "python",
   "pygments_lexer": "ipython3",
   "version": "3.12.7"
  }
 },
 "nbformat": 4,
 "nbformat_minor": 5
}
